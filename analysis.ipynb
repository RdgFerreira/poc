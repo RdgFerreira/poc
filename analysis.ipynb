{
 "cells": [
  {
   "cell_type": "code",
   "execution_count": 2,
   "metadata": {},
   "outputs": [],
   "source": [
    "import matplotlib.pyplot as plt\n",
    "import numpy as np"
   ]
  },
  {
   "cell_type": "code",
   "execution_count": 3,
   "metadata": {},
   "outputs": [
    {
     "name": "stdout",
     "output_type": "stream",
     "text": [
      "[{'id': '1', 'name': 'Problem 1', 'category': 'beginner', 'difficulty': 1, 'copilot_interferences': 0, 'correctness': 0.6}]\n"
     ]
    }
   ],
   "source": [
    "problem_set = [\n",
    "    {\n",
    "        \"id\": \"1\",\n",
    "        \"name\": \"Problem 1\",\n",
    "        \"category\": \"beginner\",\n",
    "        \"difficulty\": 1,\n",
    "        \"copilot_interferences\": {\n",
    "            \"js\": 1,\n",
    "            \"python\": 2,\n",
    "        },\n",
    "        \"correctness\": {\n",
    "            \"js\": {\n",
    "                \"number\": 0.1,\n",
    "                \"error\": \"Memory Limit Exceeded\"\n",
    "            },\n",
    "            \"python\": {\n",
    "                \"number\": 0.1,\n",
    "                \"error\": \"Memory Limit Exceeded\"\n",
    "            },\n",
    "        }, \n",
    "    },\n",
    "]\n",
    "print(problem_set)"
   ]
  },
  {
   "cell_type": "code",
   "execution_count": null,
   "metadata": {},
   "outputs": [],
   "source": []
  }
 ],
 "metadata": {
  "kernelspec": {
   "display_name": "Python 3",
   "language": "python",
   "name": "python3"
  },
  "language_info": {
   "codemirror_mode": {
    "name": "ipython",
    "version": 3
   },
   "file_extension": ".py",
   "mimetype": "text/x-python",
   "name": "python",
   "nbconvert_exporter": "python",
   "pygments_lexer": "ipython3",
   "version": "3.12.1"
  }
 },
 "nbformat": 4,
 "nbformat_minor": 2
}
